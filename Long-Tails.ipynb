{
 "cells": [
  {
   "cell_type": "markdown",
   "metadata": {},
   "source": [
    "Stitch Fix, Jupyter, GitHub, and the Long Tail\n",
    "==\n",
    "\n",
    "At Stitch Fix we are avid users of Jupyter for research at both the personal and team scales. At the personal level, Jupyter is a great interface to research the question at hand. It captures the workflow of the research where we can take detailed notes on the code and explain models with written content and mathematical equations. \n",
    "\n",
    "At the team level, Jupyter is a great tool for communication. Notebooks allow one to fluidly mix text, code, equations, data, and plots in whatever way makes the most sense to explain something. You can organize your explanation around your thought process rather than around the artificial lines determined by the tools you’re using.  You have a single Jupyter notebook instead of a bunch of disconnected files, one containing SQL code, another Python, a third LaTeX to typeset equations.\n",
    "\n",
    "When the analysis is finished, the Jupyter notebook remains a “living” interactive research notebook.  Re-doing the analysis using new data or different assumptions is simple.\n",
    "\n",
    "Stitch Fix provides clothing to its clients based on their style preferences.  We send a client five pieces of clothing we predict they’ll like, and the client chooses what to keep. Inevitably, some pieces of clothing will be more popular than others. In some cases, a few select items may be unpopular. \n",
    "\n",
    "The largest benefit from adding a single style of clothing to our line of inventory comes from the most popular one. Each of the less popular styles, by itself, contributes less.  However, there are *many* of the less popular ones, reflecting the fact that our clients are unique in their fashion preferences. Together, the value in the \"long tail\" can match or exceed the value of the few products in the \"head.\"  Catering to the long tail allows us to save our clients the time they would otherwise spend searching through many retail stores to find clothing that’s unique to their tastes.\n",
    "\n",
    "But, where do we draw the line on how far into the long tail we should support? Below we investigate this question using the Jupyter Notebook. The portability and flexibility of the Notebooks allows us to easily share the analysis with others.  GitHub integration allows a great new possibility: other researches can fork the notebook to extend or alter the analysis according to their own particular interests!"
   ]
  },
  {
   "cell_type": "markdown",
   "metadata": {},
   "source": [
    "Is the value in the head or the tail?\n",
    "--\n",
    "\n",
    "We will approximate the number of each style of clothing sold as a power law of the rank $r$ by sales volume.  The most popular style has $r=1$, the second most popular $r=2$, and the least popular has $r=N$.  Consumer preferences dictate the shape of the curve. \n",
    "\n",
    "Even though we may want to carry an infinite number of styles of clothing, it's important to keep $N$ finite so that the integrals converge!  For the moment we will consider a scaled-down version of Stitch Fix that only carrys 100 styles of clothing and sells a volume of $V=5,000$ units per year.\n",
    "\n",
    "The volume of each style sold is\n",
    "\\begin{equation}\n",
    "v(r) = \\frac{A}{r^n}\n",
    "\\end{equation}\n",
    "where $A$ is a normalization constant and $n$ is the index of the power law.  The value of $n$ will determine how much value is in the head versus the tail.\n",
    "\n",
    "Approximating the product distribution as continuous so it can be written as an integral, the normalization constant is set by the constraint\n",
    "\\begin{equation}\n",
    "\\int_1^N \\frac{A\\,dr}{r^n} = V\n",
    "\\end{equation}\n",
    "so\n",
    "\\begin{equation}\n",
    "A = \\frac{(n-1) V}{1-N^{1-n}} \n",
    "\\end{equation}\n"
   ]
  }
 ],
 "metadata": {
  "kernelspec": {
   "display_name": "Python 2",
   "language": "python",
   "name": "python2"
  },
  "language_info": {
   "codemirror_mode": {
    "name": "ipython",
    "version": 2
   },
   "file_extension": ".py",
   "mimetype": "text/x-python",
   "name": "python",
   "nbconvert_exporter": "python",
   "pygments_lexer": "ipython2",
   "version": "2.7.9"
  }
 },
 "nbformat": 4,
 "nbformat_minor": 0
}
