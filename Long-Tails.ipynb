{
 "cells": [
  {
   "cell_type": "markdown",
   "metadata": {},
   "source": [
    "Is the value in the head or the tail?\n",
    "--\n",
    "\n",
    "We will approximate the number of each style of clothing sold as a power law of the rank $r$ by sales volume.  The most popular style has $r=1$, the second most popular $r=2$, and the least popular has $r=N$.  Consumer preferences dictate the shape of the curve. \n",
    "\n",
    "Even though we may want to carry an infinite number of styles of clothing, it's important to keep $N$ finite so that the integrals converge!  For the moment we will consider a scaled-down version of Stitch Fix that only carrys 100 styles of clothing and sells a volume of $V=5,000$ units per year.\n",
    "\n",
    "The volume of each style sold is\n",
    "\\begin{equation}\n",
    "v(r) = \\frac{A}{r^n}\n",
    "\\end{equation}\n",
    "where $A$ is a normalization constant and $n$ is the index of the power law.  The value of $n$ will determine how much value is in the head versus the tail.\n",
    "\n",
    "Approximating the product distribution as continuous so it can be written as an integral, the normalization constant is set by the constraint\n",
    "\\begin{equation}\n",
    "\\int_1^N \\frac{A\\,dr}{r^n} = V\n",
    "\\end{equation}\n",
    "so\n",
    "\\begin{equation}\n",
    "A = \\frac{(n-1) V}{1-N^{1-n}} \n",
    "\\end{equation}\n"
   ]
  }
 ],
 "metadata": {
  "kernelspec": {
   "display_name": "Python 2",
   "language": "python",
   "name": "python2"
  },
  "language_info": {
   "codemirror_mode": {
    "name": "ipython",
    "version": 2
   },
   "file_extension": ".py",
   "mimetype": "text/x-python",
   "name": "python",
   "nbconvert_exporter": "python",
   "pygments_lexer": "ipython2",
   "version": "2.7.9"
  }
 },
 "nbformat": 4,
 "nbformat_minor": 0
}
